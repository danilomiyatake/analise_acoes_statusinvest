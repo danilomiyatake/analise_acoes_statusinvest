{
 "cells": [
  {
   "cell_type": "markdown",
   "id": "6c7a2901",
   "metadata": {},
   "source": [
    "# Análise Exploratória"
   ]
  },
  {
   "cell_type": "markdown",
   "id": "ec966b33",
   "metadata": {},
   "source": [
    "A análise abaixo foi realizada utilizando os dados coletados do site statusinvest.com.br e, através de webscraping e utilização da biblioteca BeautifulSoup foram tratados e posteriormente convertidos em arquivo csv. Caso queira verificar o método desta primeira etapa acessar o notebook \"WebScraping\" "
   ]
  },
  {
   "cell_type": "markdown",
   "id": "d17d9f20",
   "metadata": {},
   "source": [
    "## Importando bibliotecas e arquivos"
   ]
  },
  {
   "cell_type": "code",
   "execution_count": 50,
   "id": "e7fb4598",
   "metadata": {},
   "outputs": [],
   "source": [
    "import pandas as pd\n",
    "import numpy as np\n",
    "import matplotlib.pyplot as plt\n",
    "import seaborn as sns\n",
    "import plotly.express as px\n",
    "import time"
   ]
  },
  {
   "cell_type": "code",
   "execution_count": 49,
   "id": "7cc78221",
   "metadata": {},
   "outputs": [
    {
     "name": "stdout",
     "output_type": "stream",
     "text": [
      "Requirement already satisfied: plotly in c:\\users\\danil\\anaconda3\\lib\\site-packages (5.6.0)\n",
      "Requirement already satisfied: tenacity>=6.2.0 in c:\\users\\danil\\anaconda3\\lib\\site-packages (from plotly) (8.0.1)\n",
      "Requirement already satisfied: six in c:\\users\\danil\\anaconda3\\lib\\site-packages (from plotly) (1.15.0)\n"
     ]
    }
   ],
   "source": []
  },
  {
   "cell_type": "code",
   "execution_count": 2,
   "id": "5a3bbb2c",
   "metadata": {},
   "outputs": [],
   "source": [
    "pd.set_option('display.max_rows', None)"
   ]
  },
  {
   "cell_type": "code",
   "execution_count": 3,
   "id": "dbc587a4",
   "metadata": {},
   "outputs": [],
   "source": [
    "df = pd.read_csv('dados_empresas_statsusinvest.csv', sep = ';')"
   ]
  },
  {
   "cell_type": "code",
   "execution_count": 6,
   "id": "d187f532",
   "metadata": {},
   "outputs": [
    {
     "data": {
      "text/html": [
       "<div>\n",
       "<style scoped>\n",
       "    .dataframe tbody tr th:only-of-type {\n",
       "        vertical-align: middle;\n",
       "    }\n",
       "\n",
       "    .dataframe tbody tr th {\n",
       "        vertical-align: top;\n",
       "    }\n",
       "\n",
       "    .dataframe thead th {\n",
       "        text-align: right;\n",
       "    }\n",
       "</style>\n",
       "<table border=\"1\" class=\"dataframe\">\n",
       "  <thead>\n",
       "    <tr style=\"text-align: right;\">\n",
       "      <th></th>\n",
       "      <th>Papel</th>\n",
       "      <th>Empresa</th>\n",
       "      <th>CNPJ</th>\n",
       "      <th>Setor de atuação</th>\n",
       "      <th>Subsetor de atuação</th>\n",
       "      <th>Segmento de atuação</th>\n",
       "      <th>Patrimônio líquido</th>\n",
       "      <th>Ativos</th>\n",
       "      <th>Ativo circulante</th>\n",
       "      <th>Dívida bruta</th>\n",
       "      <th>...</th>\n",
       "      <th>Valor de mercado</th>\n",
       "      <th>Valor de firma</th>\n",
       "      <th>Número total de papéis</th>\n",
       "      <th>Segmento de listagem</th>\n",
       "      <th>Free float</th>\n",
       "      <th>Cotação atual</th>\n",
       "      <th>Mínima 52 semanas</th>\n",
       "      <th>Máxima 52 semanas</th>\n",
       "      <th>Dividend Yield</th>\n",
       "      <th>Valorização</th>\n",
       "    </tr>\n",
       "  </thead>\n",
       "  <tbody>\n",
       "    <tr>\n",
       "      <th>0</th>\n",
       "      <td>aalr3</td>\n",
       "      <td>CENTRO DE IMAGEM DIAGNOSTICOS S.A.</td>\n",
       "      <td>42.771.949/0001-35</td>\n",
       "      <td>Saúde</td>\n",
       "      <td>Serv.Méd.Hospit..Análises e Diagnósticos</td>\n",
       "      <td>Serv.Méd.Hospit..Análises e Diagnósticos</td>\n",
       "      <td>1145368000</td>\n",
       "      <td>2573833000</td>\n",
       "      <td>457827000</td>\n",
       "      <td>808798000</td>\n",
       "      <td>...</td>\n",
       "      <td>2518454053</td>\n",
       "      <td>3087062053</td>\n",
       "      <td>118292816</td>\n",
       "      <td>Novo Mercado</td>\n",
       "      <td>35.52</td>\n",
       "      <td>21.29</td>\n",
       "      <td>12.85</td>\n",
       "      <td>21.60</td>\n",
       "      <td>-</td>\n",
       "      <td>65.68</td>\n",
       "    </tr>\n",
       "    <tr>\n",
       "      <th>1</th>\n",
       "      <td>abcb4</td>\n",
       "      <td>BCO ABC BRASIL S.A.</td>\n",
       "      <td>28.195.667/0001-06</td>\n",
       "      <td>Financeiro e Outros</td>\n",
       "      <td>Intermediários Financeiros</td>\n",
       "      <td>Bancos</td>\n",
       "      <td>5070725000</td>\n",
       "      <td>52140478000</td>\n",
       "      <td>4297215000</td>\n",
       "      <td>-</td>\n",
       "      <td>...</td>\n",
       "      <td>4291190440</td>\n",
       "      <td>4291190440</td>\n",
       "      <td>226090118</td>\n",
       "      <td>Nível 2</td>\n",
       "      <td>29.88</td>\n",
       "      <td>18.98</td>\n",
       "      <td>14.47</td>\n",
       "      <td>22.29</td>\n",
       "      <td>7.36</td>\n",
       "      <td>30.00</td>\n",
       "    </tr>\n",
       "    <tr>\n",
       "      <th>2</th>\n",
       "      <td>abev3</td>\n",
       "      <td>AMBEV S.A.</td>\n",
       "      <td>07.526.557/0001-00</td>\n",
       "      <td>Consumo não Cíclico</td>\n",
       "      <td>Bebidas</td>\n",
       "      <td>Cervejas e Refrigerantes</td>\n",
       "      <td>90178032000</td>\n",
       "      <td>142063954000</td>\n",
       "      <td>41556965000</td>\n",
       "      <td>2980480000</td>\n",
       "      <td>...</td>\n",
       "      <td>225543105306</td>\n",
       "      <td>209463715306</td>\n",
       "      <td>15750216851</td>\n",
       "      <td>NaN</td>\n",
       "      <td>27.85</td>\n",
       "      <td>14.32</td>\n",
       "      <td>12.47</td>\n",
       "      <td>16.03</td>\n",
       "      <td>5.32</td>\n",
       "      <td>2.95</td>\n",
       "    </tr>\n",
       "    <tr>\n",
       "      <th>3</th>\n",
       "      <td>aeri3</td>\n",
       "      <td>AERIS IND. E COM. DE EQUIP. GERACAO DE ENERGIA...</td>\n",
       "      <td>12.528.708/0001-07</td>\n",
       "      <td>Bens Industriais</td>\n",
       "      <td>Máquinas e Equipamentos</td>\n",
       "      <td>Máq. e Equip. Industriais</td>\n",
       "      <td>942087000</td>\n",
       "      <td>3459015000</td>\n",
       "      <td>2285013000</td>\n",
       "      <td>1573577000</td>\n",
       "      <td>...</td>\n",
       "      <td>819848398</td>\n",
       "      <td>1537033398</td>\n",
       "      <td>766213456</td>\n",
       "      <td>Novo Mercado</td>\n",
       "      <td>29.64</td>\n",
       "      <td>1.07</td>\n",
       "      <td>0.88</td>\n",
       "      <td>6.54</td>\n",
       "      <td>1.93</td>\n",
       "      <td>-81.83</td>\n",
       "    </tr>\n",
       "    <tr>\n",
       "      <th>4</th>\n",
       "      <td>aesb3</td>\n",
       "      <td>AES BRASIL ENERGIA S.A.</td>\n",
       "      <td>37.663.076/0001-07</td>\n",
       "      <td>Utilidade Pública</td>\n",
       "      <td>Energia Elétrica</td>\n",
       "      <td>Energia Elétrica</td>\n",
       "      <td>4175175000</td>\n",
       "      <td>15104672000</td>\n",
       "      <td>4091868000</td>\n",
       "      <td>7893505000</td>\n",
       "      <td>...</td>\n",
       "      <td>5573846900</td>\n",
       "      <td>10011969900</td>\n",
       "      <td>601927311</td>\n",
       "      <td>Novo Mercado</td>\n",
       "      <td>52.37</td>\n",
       "      <td>9.26</td>\n",
       "      <td>9.05</td>\n",
       "      <td>12.06</td>\n",
       "      <td>1.16</td>\n",
       "      <td>-7.12</td>\n",
       "    </tr>\n",
       "  </tbody>\n",
       "</table>\n",
       "<p>5 rows × 22 columns</p>\n",
       "</div>"
      ],
      "text/plain": [
       "   Papel                                            Empresa  \\\n",
       "0  aalr3                 CENTRO DE IMAGEM DIAGNOSTICOS S.A.   \n",
       "1  abcb4                                BCO ABC BRASIL S.A.   \n",
       "2  abev3                                         AMBEV S.A.   \n",
       "3  aeri3  AERIS IND. E COM. DE EQUIP. GERACAO DE ENERGIA...   \n",
       "4  aesb3                            AES BRASIL ENERGIA S.A.   \n",
       "\n",
       "                 CNPJ     Setor de atuação  \\\n",
       "0  42.771.949/0001-35                Saúde   \n",
       "1  28.195.667/0001-06  Financeiro e Outros   \n",
       "2  07.526.557/0001-00  Consumo não Cíclico   \n",
       "3  12.528.708/0001-07     Bens Industriais   \n",
       "4  37.663.076/0001-07    Utilidade Pública   \n",
       "\n",
       "                        Subsetor de atuação  \\\n",
       "0  Serv.Méd.Hospit..Análises e Diagnósticos   \n",
       "1                Intermediários Financeiros   \n",
       "2                                   Bebidas   \n",
       "3                   Máquinas e Equipamentos   \n",
       "4                          Energia Elétrica   \n",
       "\n",
       "                        Segmento de atuação  Patrimônio líquido        Ativos  \\\n",
       "0  Serv.Méd.Hospit..Análises e Diagnósticos          1145368000    2573833000   \n",
       "1                                    Bancos          5070725000   52140478000   \n",
       "2                  Cervejas e Refrigerantes         90178032000  142063954000   \n",
       "3                 Máq. e Equip. Industriais           942087000    3459015000   \n",
       "4                          Energia Elétrica          4175175000   15104672000   \n",
       "\n",
       "   Ativo circulante Dívida bruta  ...  Valor de mercado Valor de firma  \\\n",
       "0         457827000    808798000  ...        2518454053     3087062053   \n",
       "1        4297215000            -  ...        4291190440     4291190440   \n",
       "2       41556965000   2980480000  ...      225543105306   209463715306   \n",
       "3        2285013000   1573577000  ...         819848398     1537033398   \n",
       "4        4091868000   7893505000  ...        5573846900    10011969900   \n",
       "\n",
       "  Número total de papéis Segmento de listagem  Free float Cotação atual  \\\n",
       "0              118292816         Novo Mercado       35.52         21.29   \n",
       "1              226090118              Nível 2       29.88         18.98   \n",
       "2            15750216851                  NaN       27.85         14.32   \n",
       "3              766213456         Novo Mercado       29.64          1.07   \n",
       "4              601927311         Novo Mercado       52.37          9.26   \n",
       "\n",
       "  Mínima 52 semanas  Máxima 52 semanas Dividend Yield Valorização  \n",
       "0             12.85              21.60              -       65.68  \n",
       "1             14.47              22.29           7.36       30.00  \n",
       "2             12.47              16.03           5.32        2.95  \n",
       "3              0.88               6.54           1.93      -81.83  \n",
       "4              9.05              12.06           1.16       -7.12  \n",
       "\n",
       "[5 rows x 22 columns]"
      ]
     },
     "execution_count": 6,
     "metadata": {},
     "output_type": "execute_result"
    }
   ],
   "source": [
    "df.head()"
   ]
  },
  {
   "cell_type": "code",
   "execution_count": 4,
   "id": "6897b2c8",
   "metadata": {},
   "outputs": [
    {
     "data": {
      "text/plain": [
       "(459, 22)"
      ]
     },
     "execution_count": 4,
     "metadata": {},
     "output_type": "execute_result"
    }
   ],
   "source": [
    "df.shape"
   ]
  },
  {
   "cell_type": "code",
   "execution_count": 7,
   "id": "f3b79cc6",
   "metadata": {},
   "outputs": [
    {
     "name": "stdout",
     "output_type": "stream",
     "text": [
      "<class 'pandas.core.frame.DataFrame'>\n",
      "RangeIndex: 459 entries, 0 to 458\n",
      "Data columns (total 22 columns):\n",
      " #   Column                  Non-Null Count  Dtype  \n",
      "---  ------                  --------------  -----  \n",
      " 0   Papel                   459 non-null    object \n",
      " 1   Empresa                 459 non-null    object \n",
      " 2   CNPJ                    459 non-null    object \n",
      " 3   Setor de atuação        459 non-null    object \n",
      " 4   Subsetor de atuação     459 non-null    object \n",
      " 5   Segmento de atuação     459 non-null    object \n",
      " 6   Patrimônio líquido      459 non-null    int64  \n",
      " 7   Ativos                  459 non-null    int64  \n",
      " 8   Ativo circulante        459 non-null    int64  \n",
      " 9   Dívida bruta            459 non-null    object \n",
      " 10  Disponibilidade         459 non-null    int64  \n",
      " 11  Dívida líquida          459 non-null    object \n",
      " 12  Valor de mercado        459 non-null    object \n",
      " 13  Valor de firma          459 non-null    object \n",
      " 14  Número total de papéis  459 non-null    int64  \n",
      " 15  Segmento de listagem    262 non-null    object \n",
      " 16  Free float              459 non-null    object \n",
      " 17  Cotação atual           459 non-null    float64\n",
      " 18  Mínima 52 semanas       459 non-null    object \n",
      " 19  Máxima 52 semanas       459 non-null    object \n",
      " 20  Dividend Yield          459 non-null    object \n",
      " 21  Valorização             459 non-null    object \n",
      "dtypes: float64(1), int64(5), object(16)\n",
      "memory usage: 79.0+ KB\n"
     ]
    }
   ],
   "source": [
    "df.info()"
   ]
  },
  {
   "cell_type": "code",
   "execution_count": 8,
   "id": "75feb0bc",
   "metadata": {},
   "outputs": [
    {
     "data": {
      "text/plain": [
       "Papel                       0\n",
       "Empresa                     0\n",
       "CNPJ                        0\n",
       "Setor de atuação            0\n",
       "Subsetor de atuação         0\n",
       "Segmento de atuação         0\n",
       "Patrimônio líquido          0\n",
       "Ativos                      0\n",
       "Ativo circulante            0\n",
       "Dívida bruta                0\n",
       "Disponibilidade             0\n",
       "Dívida líquida              0\n",
       "Valor de mercado            0\n",
       "Valor de firma              0\n",
       "Número total de papéis      0\n",
       "Segmento de listagem      197\n",
       "Free float                  0\n",
       "Cotação atual               0\n",
       "Mínima 52 semanas           0\n",
       "Máxima 52 semanas           0\n",
       "Dividend Yield              0\n",
       "Valorização                 0\n",
       "dtype: int64"
      ]
     },
     "execution_count": 8,
     "metadata": {},
     "output_type": "execute_result"
    }
   ],
   "source": [
    "df.isnull().sum()"
   ]
  },
  {
   "cell_type": "code",
   "execution_count": 10,
   "id": "06c14c75",
   "metadata": {},
   "outputs": [],
   "source": [
    "\n",
    "\n",
    "numericos = ['Patrimônio líquido','Ativos','Ativo circulante','Dívida bruta','Disponibilidade','Dívida líquida',\n",
    "           'Valor de mercado','Valor de firma','Número total de papéis','Free float','Cotação atual','Mínima 52 semanas',\n",
    "           'Máxima 52 semanas','Dividend Yield','Valorização']\n",
    "\n",
    "for numerico in numericos:\n",
    "    df[numerico] = pd.to_numeric(df[numerico], errors='coerce')"
   ]
  },
  {
   "cell_type": "code",
   "execution_count": 11,
   "id": "c90fa999",
   "metadata": {},
   "outputs": [
    {
     "name": "stdout",
     "output_type": "stream",
     "text": [
      "<class 'pandas.core.frame.DataFrame'>\n",
      "RangeIndex: 459 entries, 0 to 458\n",
      "Data columns (total 22 columns):\n",
      " #   Column                  Non-Null Count  Dtype  \n",
      "---  ------                  --------------  -----  \n",
      " 0   Papel                   459 non-null    object \n",
      " 1   Empresa                 459 non-null    object \n",
      " 2   CNPJ                    459 non-null    object \n",
      " 3   Setor de atuação        459 non-null    object \n",
      " 4   Subsetor de atuação     459 non-null    object \n",
      " 5   Segmento de atuação     459 non-null    object \n",
      " 6   Patrimônio líquido      459 non-null    int64  \n",
      " 7   Ativos                  459 non-null    int64  \n",
      " 8   Ativo circulante        459 non-null    int64  \n",
      " 9   Dívida bruta            410 non-null    float64\n",
      " 10  Disponibilidade         459 non-null    int64  \n",
      " 11  Dívida líquida          410 non-null    float64\n",
      " 12  Valor de mercado        456 non-null    float64\n",
      " 13  Valor de firma          456 non-null    float64\n",
      " 14  Número total de papéis  459 non-null    int64  \n",
      " 15  Segmento de listagem    262 non-null    object \n",
      " 16  Free float              449 non-null    float64\n",
      " 17  Cotação atual           459 non-null    float64\n",
      " 18  Mínima 52 semanas       431 non-null    float64\n",
      " 19  Máxima 52 semanas       431 non-null    float64\n",
      " 20  Dividend Yield          317 non-null    float64\n",
      " 21  Valorização             431 non-null    float64\n",
      "dtypes: float64(10), int64(5), object(7)\n",
      "memory usage: 79.0+ KB\n"
     ]
    }
   ],
   "source": [
    "df.info()"
   ]
  },
  {
   "cell_type": "code",
   "execution_count": 12,
   "id": "baf5a81d",
   "metadata": {},
   "outputs": [],
   "source": [
    "df['Segmento de listagem'] = df['Segmento de listagem'].fillna('-')"
   ]
  },
  {
   "cell_type": "code",
   "execution_count": 13,
   "id": "f4b622f6",
   "metadata": {},
   "outputs": [],
   "source": [
    "df['Dividend Yield'] = df['Dividend Yield'].fillna(0)"
   ]
  },
  {
   "cell_type": "code",
   "execution_count": 14,
   "id": "6d2ebf94",
   "metadata": {},
   "outputs": [],
   "source": [
    "df = df.dropna(axis = 0, subset=['Free float', 'Valorização', 'Valor de mercado'])"
   ]
  },
  {
   "cell_type": "code",
   "execution_count": 16,
   "id": "3950526c",
   "metadata": {},
   "outputs": [
    {
     "data": {
      "text/html": [
       "<div>\n",
       "<style scoped>\n",
       "    .dataframe tbody tr th:only-of-type {\n",
       "        vertical-align: middle;\n",
       "    }\n",
       "\n",
       "    .dataframe tbody tr th {\n",
       "        vertical-align: top;\n",
       "    }\n",
       "\n",
       "    .dataframe thead th {\n",
       "        text-align: right;\n",
       "    }\n",
       "</style>\n",
       "<table border=\"1\" class=\"dataframe\">\n",
       "  <thead>\n",
       "    <tr style=\"text-align: right;\">\n",
       "      <th></th>\n",
       "      <th>Patrimônio líquido</th>\n",
       "      <th>Ativos</th>\n",
       "      <th>Ativo circulante</th>\n",
       "      <th>Dívida bruta</th>\n",
       "      <th>Disponibilidade</th>\n",
       "      <th>Dívida líquida</th>\n",
       "      <th>Valor de mercado</th>\n",
       "      <th>Valor de firma</th>\n",
       "      <th>Número total de papéis</th>\n",
       "      <th>Free float</th>\n",
       "      <th>Cotação atual</th>\n",
       "      <th>Mínima 52 semanas</th>\n",
       "      <th>Máxima 52 semanas</th>\n",
       "      <th>Dividend Yield</th>\n",
       "      <th>Valorização</th>\n",
       "    </tr>\n",
       "  </thead>\n",
       "  <tbody>\n",
       "    <tr>\n",
       "      <th>count</th>\n",
       "      <td>4.200000e+02</td>\n",
       "      <td>4.200000e+02</td>\n",
       "      <td>4.200000e+02</td>\n",
       "      <td>3.730000e+02</td>\n",
       "      <td>4.200000e+02</td>\n",
       "      <td>3.730000e+02</td>\n",
       "      <td>4.200000e+02</td>\n",
       "      <td>4.200000e+02</td>\n",
       "      <td>4.200000e+02</td>\n",
       "      <td>420.000000</td>\n",
       "      <td>420.000000</td>\n",
       "      <td>420.000000</td>\n",
       "      <td>420.000000</td>\n",
       "      <td>420.000000</td>\n",
       "      <td>420.000000</td>\n",
       "    </tr>\n",
       "    <tr>\n",
       "      <th>mean</th>\n",
       "      <td>8.593537e+09</td>\n",
       "      <td>5.210452e+10</td>\n",
       "      <td>8.966384e+09</td>\n",
       "      <td>5.511115e+09</td>\n",
       "      <td>3.348293e+09</td>\n",
       "      <td>3.382174e+09</td>\n",
       "      <td>1.245025e+10</td>\n",
       "      <td>1.545395e+10</td>\n",
       "      <td>9.339046e+08</td>\n",
       "      <td>51.554333</td>\n",
       "      <td>19.987119</td>\n",
       "      <td>16.175643</td>\n",
       "      <td>26.460810</td>\n",
       "      <td>4.961857</td>\n",
       "      <td>13.963500</td>\n",
       "    </tr>\n",
       "    <tr>\n",
       "      <th>std</th>\n",
       "      <td>2.404898e+10</td>\n",
       "      <td>2.370151e+11</td>\n",
       "      <td>3.177321e+10</td>\n",
       "      <td>1.125503e+10</td>\n",
       "      <td>1.207581e+10</td>\n",
       "      <td>8.358648e+09</td>\n",
       "      <td>3.542030e+10</td>\n",
       "      <td>3.832437e+10</td>\n",
       "      <td>2.041776e+09</td>\n",
       "      <td>47.743116</td>\n",
       "      <td>37.050609</td>\n",
       "      <td>29.378079</td>\n",
       "      <td>40.068594</td>\n",
       "      <td>6.554254</td>\n",
       "      <td>469.633719</td>\n",
       "    </tr>\n",
       "    <tr>\n",
       "      <th>min</th>\n",
       "      <td>-2.172344e+10</td>\n",
       "      <td>7.730000e+05</td>\n",
       "      <td>0.000000e+00</td>\n",
       "      <td>0.000000e+00</td>\n",
       "      <td>0.000000e+00</td>\n",
       "      <td>-1.607939e+10</td>\n",
       "      <td>5.195623e+06</td>\n",
       "      <td>-4.797283e+09</td>\n",
       "      <td>4.547500e+05</td>\n",
       "      <td>0.100000</td>\n",
       "      <td>0.560000</td>\n",
       "      <td>0.320000</td>\n",
       "      <td>1.330000</td>\n",
       "      <td>0.000000</td>\n",
       "      <td>-81.830000</td>\n",
       "    </tr>\n",
       "    <tr>\n",
       "      <th>25%</th>\n",
       "      <td>5.250482e+08</td>\n",
       "      <td>1.323145e+09</td>\n",
       "      <td>4.515610e+08</td>\n",
       "      <td>1.281350e+08</td>\n",
       "      <td>8.762550e+07</td>\n",
       "      <td>-1.799400e+07</td>\n",
       "      <td>4.726188e+08</td>\n",
       "      <td>4.701852e+08</td>\n",
       "      <td>6.762188e+07</td>\n",
       "      <td>25.097500</td>\n",
       "      <td>5.237500</td>\n",
       "      <td>4.347500</td>\n",
       "      <td>8.780000</td>\n",
       "      <td>0.000000</td>\n",
       "      <td>-34.790000</td>\n",
       "    </tr>\n",
       "    <tr>\n",
       "      <th>50%</th>\n",
       "      <td>1.506980e+09</td>\n",
       "      <td>5.069152e+09</td>\n",
       "      <td>1.831362e+09</td>\n",
       "      <td>1.026738e+09</td>\n",
       "      <td>5.918280e+08</td>\n",
       "      <td>5.293160e+08</td>\n",
       "      <td>2.267149e+09</td>\n",
       "      <td>2.733734e+09</td>\n",
       "      <td>2.199655e+08</td>\n",
       "      <td>45.820000</td>\n",
       "      <td>10.805000</td>\n",
       "      <td>9.140000</td>\n",
       "      <td>16.170000</td>\n",
       "      <td>2.960000</td>\n",
       "      <td>-10.985000</td>\n",
       "    </tr>\n",
       "    <tr>\n",
       "      <th>75%</th>\n",
       "      <td>6.930772e+09</td>\n",
       "      <td>2.312678e+10</td>\n",
       "      <td>5.631916e+09</td>\n",
       "      <td>5.107990e+09</td>\n",
       "      <td>2.059039e+09</td>\n",
       "      <td>3.677796e+09</td>\n",
       "      <td>8.991140e+09</td>\n",
       "      <td>1.250835e+10</td>\n",
       "      <td>8.304702e+08</td>\n",
       "      <td>67.300000</td>\n",
       "      <td>22.787500</td>\n",
       "      <td>18.500000</td>\n",
       "      <td>31.580000</td>\n",
       "      <td>7.315000</td>\n",
       "      <td>12.200000</td>\n",
       "    </tr>\n",
       "    <tr>\n",
       "      <th>max</th>\n",
       "      <td>1.795380e+11</td>\n",
       "      <td>2.165608e+12</td>\n",
       "      <td>3.397881e+11</td>\n",
       "      <td>9.492774e+10</td>\n",
       "      <td>1.485315e+11</td>\n",
       "      <td>7.766702e+10</td>\n",
       "      <td>4.412826e+11</td>\n",
       "      <td>4.790196e+11</td>\n",
       "      <td>1.575022e+10</td>\n",
       "      <td>483.710000</td>\n",
       "      <td>452.000000</td>\n",
       "      <td>378.660000</td>\n",
       "      <td>483.700000</td>\n",
       "      <td>52.550000</td>\n",
       "      <td>9584.380000</td>\n",
       "    </tr>\n",
       "  </tbody>\n",
       "</table>\n",
       "</div>"
      ],
      "text/plain": [
       "       Patrimônio líquido        Ativos  Ativo circulante  Dívida bruta  \\\n",
       "count        4.200000e+02  4.200000e+02      4.200000e+02  3.730000e+02   \n",
       "mean         8.593537e+09  5.210452e+10      8.966384e+09  5.511115e+09   \n",
       "std          2.404898e+10  2.370151e+11      3.177321e+10  1.125503e+10   \n",
       "min         -2.172344e+10  7.730000e+05      0.000000e+00  0.000000e+00   \n",
       "25%          5.250482e+08  1.323145e+09      4.515610e+08  1.281350e+08   \n",
       "50%          1.506980e+09  5.069152e+09      1.831362e+09  1.026738e+09   \n",
       "75%          6.930772e+09  2.312678e+10      5.631916e+09  5.107990e+09   \n",
       "max          1.795380e+11  2.165608e+12      3.397881e+11  9.492774e+10   \n",
       "\n",
       "       Disponibilidade  Dívida líquida  Valor de mercado  Valor de firma  \\\n",
       "count     4.200000e+02    3.730000e+02      4.200000e+02    4.200000e+02   \n",
       "mean      3.348293e+09    3.382174e+09      1.245025e+10    1.545395e+10   \n",
       "std       1.207581e+10    8.358648e+09      3.542030e+10    3.832437e+10   \n",
       "min       0.000000e+00   -1.607939e+10      5.195623e+06   -4.797283e+09   \n",
       "25%       8.762550e+07   -1.799400e+07      4.726188e+08    4.701852e+08   \n",
       "50%       5.918280e+08    5.293160e+08      2.267149e+09    2.733734e+09   \n",
       "75%       2.059039e+09    3.677796e+09      8.991140e+09    1.250835e+10   \n",
       "max       1.485315e+11    7.766702e+10      4.412826e+11    4.790196e+11   \n",
       "\n",
       "       Número total de papéis  Free float  Cotação atual  Mínima 52 semanas  \\\n",
       "count            4.200000e+02  420.000000     420.000000         420.000000   \n",
       "mean             9.339046e+08   51.554333      19.987119          16.175643   \n",
       "std              2.041776e+09   47.743116      37.050609          29.378079   \n",
       "min              4.547500e+05    0.100000       0.560000           0.320000   \n",
       "25%              6.762188e+07   25.097500       5.237500           4.347500   \n",
       "50%              2.199655e+08   45.820000      10.805000           9.140000   \n",
       "75%              8.304702e+08   67.300000      22.787500          18.500000   \n",
       "max              1.575022e+10  483.710000     452.000000         378.660000   \n",
       "\n",
       "       Máxima 52 semanas  Dividend Yield  Valorização  \n",
       "count         420.000000      420.000000   420.000000  \n",
       "mean           26.460810        4.961857    13.963500  \n",
       "std            40.068594        6.554254   469.633719  \n",
       "min             1.330000        0.000000   -81.830000  \n",
       "25%             8.780000        0.000000   -34.790000  \n",
       "50%            16.170000        2.960000   -10.985000  \n",
       "75%            31.580000        7.315000    12.200000  \n",
       "max           483.700000       52.550000  9584.380000  "
      ]
     },
     "execution_count": 16,
     "metadata": {},
     "output_type": "execute_result"
    }
   ],
   "source": [
    "df.describe()"
   ]
  },
  {
   "cell_type": "markdown",
   "id": "1c40fafd",
   "metadata": {},
   "source": [
    "Quantidade de empresas contidas na bolsa separadas por setor de atuação"
   ]
  },
  {
   "cell_type": "code",
   "execution_count": 59,
   "id": "c8ccd831",
   "metadata": {},
   "outputs": [
    {
     "data": {
      "application/vnd.plotly.v1+json": {
       "config": {
        "plotlyServerURL": "https://plot.ly"
       },
       "data": [
        {
         "alignmentgroup": "True",
         "bingroup": "x",
         "hovertemplate": "Setor de atuação=%{x}<br>count=%{y}<extra></extra>",
         "legendgroup": "",
         "marker": {
          "color": "#636efa",
          "pattern": {
           "shape": ""
          }
         },
         "name": "",
         "offsetgroup": "",
         "orientation": "v",
         "showlegend": false,
         "type": "histogram",
         "x": [
          "Saúde",
          "Financeiro e Outros",
          "Consumo não Cíclico",
          "Bens Industriais",
          "Utilidade Pública",
          "Utilidade Pública",
          "Consumo não Cíclico",
          "Consumo não Cíclico",
          "Consumo Cíclico",
          "Consumo Cíclico",
          "Consumo Cíclico",
          "Consumo Cíclico",
          "Consumo Cíclico",
          "Bens Industriais",
          "Financeiro e Outros",
          "Utilidade Pública",
          "Utilidade Pública",
          "Utilidade Pública",
          "Consumo Cíclico",
          "Utilidade Pública",
          "Consumo Cíclico",
          "Consumo Cíclico",
          "Financeiro e Outros",
          "Bens Industriais",
          "Consumo Cíclico",
          "Consumo não Cíclico",
          "Bens Industriais",
          "Financeiro e Outros",
          "Utilidade Pública",
          "Consumo Cíclico",
          "Bens Industriais",
          "Bens Industriais",
          "Bens Industriais",
          "Financeiro e Outros",
          "Consumo Cíclico",
          "Saúde",
          "Saúde",
          "Consumo não Cíclico",
          "Financeiro e Outros",
          "Financeiro e Outros",
          "Financeiro e Outros",
          "Financeiro e Outros",
          "Financeiro e Outros",
          "Bens Industriais",
          "Bens Industriais",
          "Consumo não Cíclico",
          "Financeiro e Outros",
          "Financeiro e Outros",
          "Financeiro e Outros",
          "Financeiro e Outros",
          "Financeiro e Outros",
          "Financeiro e Outros",
          "Financeiro e Outros",
          "Saúde",
          "Consumo Cíclico",
          "Saúde",
          "Financeiro e Outros",
          "Financeiro e Outros",
          "Financeiro e Outros",
          "Financeiro e Outros",
          "Financeiro e Outros",
          "Financeiro e Outros",
          "Financeiro e Outros",
          "Consumo Cíclico",
          "Tecnologia da Informação",
          "Financeiro e Outros",
          "Financeiro e Outros",
          "Consumo não Cíclico",
          "Financeiro e Outros",
          "Financeiro e Outros",
          "Financeiro e Outros",
          "Financeiro e Outros",
          "Materiais Básicos",
          "Materiais Básicos",
          "Financeiro e Outros",
          "Consumo não Cíclico",
          "Financeiro e Outros",
          "Financeiro e Outros",
          "Financeiro e Outros",
          "Financeiro e Outros",
          "Financeiro e Outros",
          "Financeiro e Outros",
          "Comunicações",
          "Financeiro e Outros",
          "Financeiro e Outros",
          "Materiais Básicos",
          "Materiais Básicos",
          "Materiais Básicos",
          "Financeiro e Outros",
          "Financeiro e Outros",
          "Financeiro e Outros",
          "Financeiro e Outros",
          "Financeiro e Outros",
          "Financeiro e Outros",
          "Financeiro e Outros",
          "Consumo Cíclico",
          "Consumo Cíclico",
          "Consumo não Cíclico",
          "Tecnologia da Informação",
          "Materiais Básicos",
          "Utilidade Pública",
          "Bens Industriais",
          "Consumo Cíclico",
          "Utilidade Pública",
          "Utilidade Pública",
          "Utilidade Pública",
          "Consumo Cíclico",
          "Consumo Cíclico",
          "Utilidade Pública",
          "Utilidade Pública",
          "Utilidade Pública",
          "Utilidade Pública",
          "Utilidade Pública",
          "Utilidade Pública",
          "Utilidade Pública",
          "Consumo Cíclico",
          "Consumo Cíclico",
          "Financeiro e Outros",
          "Tecnologia da Informação",
          "Utilidade Pública",
          "Utilidade Pública",
          "Utilidade Pública",
          "Utilidade Pública",
          "Materiais Básicos",
          "Utilidade Pública",
          "Utilidade Pública",
          "Consumo Cíclico",
          "Utilidade Pública",
          "Utilidade Pública",
          "Utilidade Pública",
          "Utilidade Pública",
          "Utilidade Pública",
          "Consumo Cíclico",
          "Consumo não Cíclico",
          "Financeiro e Outros",
          "Financeiro e Outros",
          "Materiais Básicos",
          "Materiais Básicos",
          "Materiais Básicos",
          "Financeiro e Outros",
          "Financeiro e Outros",
          "Petróleo. Gás e Biocombustíveis",
          "Consumo Cíclico",
          "Utilidade Pública",
          "Materiais Básicos",
          "Utilidade Pública",
          "Utilidade Pública",
          "Utilidade Pública",
          "Bens Industriais",
          "Consumo Cíclico",
          "Consumo Cíclico",
          "Consumo Cíclico",
          "Consumo Cíclico",
          "Consumo Cíclico",
          "Consumo Cíclico",
          "Consumo Cíclico",
          "Consumo Cíclico",
          "Financeiro e Outros",
          "Consumo Cíclico",
          "Saúde",
          "Comunicações",
          "Materiais Básicos",
          "Materiais Básicos",
          "Consumo Cíclico",
          "Petróleo. Gás e Biocombustíveis",
          "Saúde",
          "Consumo Cíclico",
          "Consumo Cíclico",
          "Tecnologia da Informação",
          "Bens Industriais",
          "Materiais Básicos",
          "Bens Industriais",
          "Bens Industriais",
          "Bens Industriais",
          "Utilidade Pública",
          "Utilidade Pública",
          "Utilidade Pública",
          "Utilidade Pública",
          "Utilidade Pública",
          "Utilidade Pública",
          "Comunicações",
          "Utilidade Pública",
          "Bens Industriais",
          "Petróleo. Gás e Biocombustíveis",
          "Utilidade Pública",
          "Utilidade Pública",
          "Utilidade Pública",
          "Utilidade Pública",
          "Utilidade Pública",
          "Tecnologia da Informação",
          "Utilidade Pública",
          "Utilidade Pública",
          "Financeiro e Outros",
          "Utilidade Pública",
          "Utilidade Pública",
          "Utilidade Pública",
          "Utilidade Pública",
          "Consumo não Cíclico",
          "Consumo Cíclico",
          "Bens Industriais",
          "Materiais Básicos",
          "Materiais Básicos",
          "Consumo Cíclico",
          "Consumo Cíclico",
          "Materiais Básicos",
          "Materiais Básicos",
          "Materiais Básicos",
          "Financeiro e Outros",
          "Comunicações",
          "Saúde",
          "Financeiro e Outros",
          "Bens Industriais",
          "Bens Industriais",
          "Consumo não Cíclico",
          "Utilidade Pública",
          "Utilidade Pública",
          "Consumo Cíclico",
          "Materiais Básicos",
          "Materiais Básicos",
          "Bens Industriais",
          "Consumo não Cíclico",
          "Materiais Básicos",
          "Materiais Básicos",
          "Bens Industriais",
          "Utilidade Pública",
          "Consumo Cíclico",
          "Financeiro e Outros",
          "Consumo Cíclico",
          "Bens Industriais",
          "Bens Industriais",
          "Saúde",
          "Consumo Cíclico",
          "Financeiro e Outros",
          "Bens Industriais",
          "Financeiro e Outros",
          "Consumo Cíclico",
          "Consumo Cíclico",
          "Consumo Cíclico",
          "Saúde",
          "Tecnologia da Informação",
          "Financeiro e Outros",
          "Financeiro e Outros",
          "Financeiro e Outros",
          "Financeiro e Outros",
          "Bens Industriais",
          "Bens Industriais",
          "Financeiro e Outros",
          "Financeiro e Outros",
          "Financeiro e Outros",
          "Financeiro e Outros",
          "Financeiro e Outros",
          "Consumo não Cíclico",
          "Consumo não Cíclico",
          "Consumo Cíclico",
          "Consumo Cíclico",
          "Consumo não Cíclico",
          "Consumo não Cíclico",
          "Bens Industriais",
          "Bens Industriais",
          "Materiais Básicos",
          "Materiais Básicos",
          "Materiais Básicos",
          "Saúde",
          "Consumo não Cíclico",
          "Consumo Cíclico",
          "Consumo Cíclico",
          "Utilidade Pública",
          "Utilidade Pública",
          "Consumo Cíclico",
          "Consumo Cíclico",
          "Financeiro e Outros",
          "Bens Industriais",
          "Financeiro e Outros",
          "Consumo Cíclico",
          "Petróleo. Gás e Biocombustíveis",
          "Bens Industriais",
          "Tecnologia da Informação",
          "Tecnologia da Informação",
          "Financeiro e Outros",
          "Saúde",
          "Consumo Cíclico",
          "Consumo não Cíclico",
          "Consumo Cíclico",
          "Consumo Cíclico",
          "Utilidade Pública",
          "Consumo Cíclico",
          "Financeiro e Outros",
          "Financeiro e Outros",
          "Materiais Básicos",
          "Consumo Cíclico",
          "Bens Industriais",
          "Tecnologia da Informação",
          "Consumo Cíclico",
          "Consumo não Cíclico",
          "Financeiro e Outros",
          "Financeiro e Outros",
          "Financeiro e Outros",
          "Financeiro e Outros",
          "Consumo Cíclico",
          "Consumo não Cíclico",
          "Bens Industriais",
          "Bens Industriais",
          "Bens Industriais",
          "Consumo Cíclico",
          "Consumo Cíclico",
          "Consumo Cíclico",
          "Consumo Cíclico",
          "Bens Industriais",
          "Bens Industriais",
          "Financeiro e Outros",
          "Bens Industriais",
          "Bens Industriais",
          "Bens Industriais",
          "Petróleo. Gás e Biocombustíveis",
          "Materiais Básicos",
          "Bens Industriais",
          "Bens Industriais",
          "Bens Industriais",
          "Bens Industriais",
          "Consumo Cíclico",
          "Saúde",
          "Petróleo. Gás e Biocombustíveis",
          "Utilidade Pública",
          "Consumo Cíclico",
          "Utilidade Pública",
          "Utilidade Pública",
          "Utilidade Pública",
          "Bens Industriais",
          "Financeiro e Outros",
          "Financeiro e Outros",
          "Financeiro e Outros",
          "Petróleo. Gás e Biocombustíveis",
          "Petróleo. Gás e Biocombustíveis",
          "Consumo Cíclico",
          "Bens Industriais",
          "Financeiro e Outros",
          "Financeiro e Outros",
          "Financeiro e Outros",
          "Utilidade Pública",
          "Utilidade Pública",
          "Utilidade Pública",
          "Consumo Cíclico",
          "Utilidade Pública",
          "Financeiro e Outros",
          "Consumo Cíclico",
          "Bens Industriais",
          "Consumo Cíclico",
          "Consumo Cíclico",
          "Bens Industriais",
          "Financeiro e Outros",
          "Consumo não Cíclico",
          "Consumo Cíclico",
          "Consumo Cíclico",
          "Consumo Cíclico",
          "Consumo não Cíclico",
          "Materiais Básicos",
          "Materiais Básicos",
          "Consumo não Cíclico",
          "Consumo Cíclico",
          "Bens Industriais",
          "Bens Industriais",
          "Tecnologia da Informação",
          "Bens Industriais",
          "Financeiro e Outros",
          "Financeiro e Outros",
          "Financeiro e Outros",
          "Materiais Básicos",
          "Financeiro e Outros",
          "Utilidade Pública",
          "Utilidade Pública",
          "Utilidade Pública",
          "Bens Industriais",
          "Bens Industriais",
          "Consumo Cíclico",
          "Consumo Cíclico",
          "Comunicações",
          "Comunicações",
          "Consumo Cíclico",
          "Consumo Cíclico",
          "Bens Industriais",
          "Comunicações",
          "Materiais Básicos",
          "Tecnologia da Informação",
          "Bens Industriais",
          "Tecnologia da Informação",
          "Consumo Cíclico",
          "Utilidade Pública",
          "Utilidade Pública",
          "Consumo não Cíclico",
          "Bens Industriais",
          "Consumo Cíclico",
          "Consumo Cíclico",
          "Consumo Cíclico",
          "Petróleo. Gás e Biocombustíveis",
          "Materiais Básicos",
          "Materiais Básicos",
          "Materiais Básicos",
          "Materiais Básicos",
          "Materiais Básicos",
          "Materiais Básicos",
          "Materiais Básicos",
          "Bens Industriais",
          "Petróleo. Gás e Biocombustíveis",
          "Consumo Cíclico",
          "Materiais Básicos",
          "Consumo Cíclico",
          "Consumo Cíclico",
          "Comunicações",
          "Bens Industriais",
          "Consumo Cíclico",
          "Saúde",
          "Bens Industriais",
          "Consumo Cíclico",
          "Consumo Cíclico",
          "Consumo Cíclico",
          "Financeiro e Outros",
          "Bens Industriais",
          "Bens Industriais",
          "Consumo Cíclico",
          "Consumo Cíclico"
         ],
         "xaxis": "x",
         "yaxis": "y"
        }
       ],
       "layout": {
        "barmode": "relative",
        "legend": {
         "tracegroupgap": 0
        },
        "margin": {
         "t": 60
        },
        "template": {
         "data": {
          "bar": [
           {
            "error_x": {
             "color": "#2a3f5f"
            },
            "error_y": {
             "color": "#2a3f5f"
            },
            "marker": {
             "line": {
              "color": "#E5ECF6",
              "width": 0.5
             },
             "pattern": {
              "fillmode": "overlay",
              "size": 10,
              "solidity": 0.2
             }
            },
            "type": "bar"
           }
          ],
          "barpolar": [
           {
            "marker": {
             "line": {
              "color": "#E5ECF6",
              "width": 0.5
             },
             "pattern": {
              "fillmode": "overlay",
              "size": 10,
              "solidity": 0.2
             }
            },
            "type": "barpolar"
           }
          ],
          "carpet": [
           {
            "aaxis": {
             "endlinecolor": "#2a3f5f",
             "gridcolor": "white",
             "linecolor": "white",
             "minorgridcolor": "white",
             "startlinecolor": "#2a3f5f"
            },
            "baxis": {
             "endlinecolor": "#2a3f5f",
             "gridcolor": "white",
             "linecolor": "white",
             "minorgridcolor": "white",
             "startlinecolor": "#2a3f5f"
            },
            "type": "carpet"
           }
          ],
          "choropleth": [
           {
            "colorbar": {
             "outlinewidth": 0,
             "ticks": ""
            },
            "type": "choropleth"
           }
          ],
          "contour": [
           {
            "colorbar": {
             "outlinewidth": 0,
             "ticks": ""
            },
            "colorscale": [
             [
              0,
              "#0d0887"
             ],
             [
              0.1111111111111111,
              "#46039f"
             ],
             [
              0.2222222222222222,
              "#7201a8"
             ],
             [
              0.3333333333333333,
              "#9c179e"
             ],
             [
              0.4444444444444444,
              "#bd3786"
             ],
             [
              0.5555555555555556,
              "#d8576b"
             ],
             [
              0.6666666666666666,
              "#ed7953"
             ],
             [
              0.7777777777777778,
              "#fb9f3a"
             ],
             [
              0.8888888888888888,
              "#fdca26"
             ],
             [
              1,
              "#f0f921"
             ]
            ],
            "type": "contour"
           }
          ],
          "contourcarpet": [
           {
            "colorbar": {
             "outlinewidth": 0,
             "ticks": ""
            },
            "type": "contourcarpet"
           }
          ],
          "heatmap": [
           {
            "colorbar": {
             "outlinewidth": 0,
             "ticks": ""
            },
            "colorscale": [
             [
              0,
              "#0d0887"
             ],
             [
              0.1111111111111111,
              "#46039f"
             ],
             [
              0.2222222222222222,
              "#7201a8"
             ],
             [
              0.3333333333333333,
              "#9c179e"
             ],
             [
              0.4444444444444444,
              "#bd3786"
             ],
             [
              0.5555555555555556,
              "#d8576b"
             ],
             [
              0.6666666666666666,
              "#ed7953"
             ],
             [
              0.7777777777777778,
              "#fb9f3a"
             ],
             [
              0.8888888888888888,
              "#fdca26"
             ],
             [
              1,
              "#f0f921"
             ]
            ],
            "type": "heatmap"
           }
          ],
          "heatmapgl": [
           {
            "colorbar": {
             "outlinewidth": 0,
             "ticks": ""
            },
            "colorscale": [
             [
              0,
              "#0d0887"
             ],
             [
              0.1111111111111111,
              "#46039f"
             ],
             [
              0.2222222222222222,
              "#7201a8"
             ],
             [
              0.3333333333333333,
              "#9c179e"
             ],
             [
              0.4444444444444444,
              "#bd3786"
             ],
             [
              0.5555555555555556,
              "#d8576b"
             ],
             [
              0.6666666666666666,
              "#ed7953"
             ],
             [
              0.7777777777777778,
              "#fb9f3a"
             ],
             [
              0.8888888888888888,
              "#fdca26"
             ],
             [
              1,
              "#f0f921"
             ]
            ],
            "type": "heatmapgl"
           }
          ],
          "histogram": [
           {
            "marker": {
             "pattern": {
              "fillmode": "overlay",
              "size": 10,
              "solidity": 0.2
             }
            },
            "type": "histogram"
           }
          ],
          "histogram2d": [
           {
            "colorbar": {
             "outlinewidth": 0,
             "ticks": ""
            },
            "colorscale": [
             [
              0,
              "#0d0887"
             ],
             [
              0.1111111111111111,
              "#46039f"
             ],
             [
              0.2222222222222222,
              "#7201a8"
             ],
             [
              0.3333333333333333,
              "#9c179e"
             ],
             [
              0.4444444444444444,
              "#bd3786"
             ],
             [
              0.5555555555555556,
              "#d8576b"
             ],
             [
              0.6666666666666666,
              "#ed7953"
             ],
             [
              0.7777777777777778,
              "#fb9f3a"
             ],
             [
              0.8888888888888888,
              "#fdca26"
             ],
             [
              1,
              "#f0f921"
             ]
            ],
            "type": "histogram2d"
           }
          ],
          "histogram2dcontour": [
           {
            "colorbar": {
             "outlinewidth": 0,
             "ticks": ""
            },
            "colorscale": [
             [
              0,
              "#0d0887"
             ],
             [
              0.1111111111111111,
              "#46039f"
             ],
             [
              0.2222222222222222,
              "#7201a8"
             ],
             [
              0.3333333333333333,
              "#9c179e"
             ],
             [
              0.4444444444444444,
              "#bd3786"
             ],
             [
              0.5555555555555556,
              "#d8576b"
             ],
             [
              0.6666666666666666,
              "#ed7953"
             ],
             [
              0.7777777777777778,
              "#fb9f3a"
             ],
             [
              0.8888888888888888,
              "#fdca26"
             ],
             [
              1,
              "#f0f921"
             ]
            ],
            "type": "histogram2dcontour"
           }
          ],
          "mesh3d": [
           {
            "colorbar": {
             "outlinewidth": 0,
             "ticks": ""
            },
            "type": "mesh3d"
           }
          ],
          "parcoords": [
           {
            "line": {
             "colorbar": {
              "outlinewidth": 0,
              "ticks": ""
             }
            },
            "type": "parcoords"
           }
          ],
          "pie": [
           {
            "automargin": true,
            "type": "pie"
           }
          ],
          "scatter": [
           {
            "marker": {
             "colorbar": {
              "outlinewidth": 0,
              "ticks": ""
             }
            },
            "type": "scatter"
           }
          ],
          "scatter3d": [
           {
            "line": {
             "colorbar": {
              "outlinewidth": 0,
              "ticks": ""
             }
            },
            "marker": {
             "colorbar": {
              "outlinewidth": 0,
              "ticks": ""
             }
            },
            "type": "scatter3d"
           }
          ],
          "scattercarpet": [
           {
            "marker": {
             "colorbar": {
              "outlinewidth": 0,
              "ticks": ""
             }
            },
            "type": "scattercarpet"
           }
          ],
          "scattergeo": [
           {
            "marker": {
             "colorbar": {
              "outlinewidth": 0,
              "ticks": ""
             }
            },
            "type": "scattergeo"
           }
          ],
          "scattergl": [
           {
            "marker": {
             "colorbar": {
              "outlinewidth": 0,
              "ticks": ""
             }
            },
            "type": "scattergl"
           }
          ],
          "scattermapbox": [
           {
            "marker": {
             "colorbar": {
              "outlinewidth": 0,
              "ticks": ""
             }
            },
            "type": "scattermapbox"
           }
          ],
          "scatterpolar": [
           {
            "marker": {
             "colorbar": {
              "outlinewidth": 0,
              "ticks": ""
             }
            },
            "type": "scatterpolar"
           }
          ],
          "scatterpolargl": [
           {
            "marker": {
             "colorbar": {
              "outlinewidth": 0,
              "ticks": ""
             }
            },
            "type": "scatterpolargl"
           }
          ],
          "scatterternary": [
           {
            "marker": {
             "colorbar": {
              "outlinewidth": 0,
              "ticks": ""
             }
            },
            "type": "scatterternary"
           }
          ],
          "surface": [
           {
            "colorbar": {
             "outlinewidth": 0,
             "ticks": ""
            },
            "colorscale": [
             [
              0,
              "#0d0887"
             ],
             [
              0.1111111111111111,
              "#46039f"
             ],
             [
              0.2222222222222222,
              "#7201a8"
             ],
             [
              0.3333333333333333,
              "#9c179e"
             ],
             [
              0.4444444444444444,
              "#bd3786"
             ],
             [
              0.5555555555555556,
              "#d8576b"
             ],
             [
              0.6666666666666666,
              "#ed7953"
             ],
             [
              0.7777777777777778,
              "#fb9f3a"
             ],
             [
              0.8888888888888888,
              "#fdca26"
             ],
             [
              1,
              "#f0f921"
             ]
            ],
            "type": "surface"
           }
          ],
          "table": [
           {
            "cells": {
             "fill": {
              "color": "#EBF0F8"
             },
             "line": {
              "color": "white"
             }
            },
            "header": {
             "fill": {
              "color": "#C8D4E3"
             },
             "line": {
              "color": "white"
             }
            },
            "type": "table"
           }
          ]
         },
         "layout": {
          "annotationdefaults": {
           "arrowcolor": "#2a3f5f",
           "arrowhead": 0,
           "arrowwidth": 1
          },
          "autotypenumbers": "strict",
          "coloraxis": {
           "colorbar": {
            "outlinewidth": 0,
            "ticks": ""
           }
          },
          "colorscale": {
           "diverging": [
            [
             0,
             "#8e0152"
            ],
            [
             0.1,
             "#c51b7d"
            ],
            [
             0.2,
             "#de77ae"
            ],
            [
             0.3,
             "#f1b6da"
            ],
            [
             0.4,
             "#fde0ef"
            ],
            [
             0.5,
             "#f7f7f7"
            ],
            [
             0.6,
             "#e6f5d0"
            ],
            [
             0.7,
             "#b8e186"
            ],
            [
             0.8,
             "#7fbc41"
            ],
            [
             0.9,
             "#4d9221"
            ],
            [
             1,
             "#276419"
            ]
           ],
           "sequential": [
            [
             0,
             "#0d0887"
            ],
            [
             0.1111111111111111,
             "#46039f"
            ],
            [
             0.2222222222222222,
             "#7201a8"
            ],
            [
             0.3333333333333333,
             "#9c179e"
            ],
            [
             0.4444444444444444,
             "#bd3786"
            ],
            [
             0.5555555555555556,
             "#d8576b"
            ],
            [
             0.6666666666666666,
             "#ed7953"
            ],
            [
             0.7777777777777778,
             "#fb9f3a"
            ],
            [
             0.8888888888888888,
             "#fdca26"
            ],
            [
             1,
             "#f0f921"
            ]
           ],
           "sequentialminus": [
            [
             0,
             "#0d0887"
            ],
            [
             0.1111111111111111,
             "#46039f"
            ],
            [
             0.2222222222222222,
             "#7201a8"
            ],
            [
             0.3333333333333333,
             "#9c179e"
            ],
            [
             0.4444444444444444,
             "#bd3786"
            ],
            [
             0.5555555555555556,
             "#d8576b"
            ],
            [
             0.6666666666666666,
             "#ed7953"
            ],
            [
             0.7777777777777778,
             "#fb9f3a"
            ],
            [
             0.8888888888888888,
             "#fdca26"
            ],
            [
             1,
             "#f0f921"
            ]
           ]
          },
          "colorway": [
           "#636efa",
           "#EF553B",
           "#00cc96",
           "#ab63fa",
           "#FFA15A",
           "#19d3f3",
           "#FF6692",
           "#B6E880",
           "#FF97FF",
           "#FECB52"
          ],
          "font": {
           "color": "#2a3f5f"
          },
          "geo": {
           "bgcolor": "white",
           "lakecolor": "white",
           "landcolor": "#E5ECF6",
           "showlakes": true,
           "showland": true,
           "subunitcolor": "white"
          },
          "hoverlabel": {
           "align": "left"
          },
          "hovermode": "closest",
          "mapbox": {
           "style": "light"
          },
          "paper_bgcolor": "white",
          "plot_bgcolor": "#E5ECF6",
          "polar": {
           "angularaxis": {
            "gridcolor": "white",
            "linecolor": "white",
            "ticks": ""
           },
           "bgcolor": "#E5ECF6",
           "radialaxis": {
            "gridcolor": "white",
            "linecolor": "white",
            "ticks": ""
           }
          },
          "scene": {
           "xaxis": {
            "backgroundcolor": "#E5ECF6",
            "gridcolor": "white",
            "gridwidth": 2,
            "linecolor": "white",
            "showbackground": true,
            "ticks": "",
            "zerolinecolor": "white"
           },
           "yaxis": {
            "backgroundcolor": "#E5ECF6",
            "gridcolor": "white",
            "gridwidth": 2,
            "linecolor": "white",
            "showbackground": true,
            "ticks": "",
            "zerolinecolor": "white"
           },
           "zaxis": {
            "backgroundcolor": "#E5ECF6",
            "gridcolor": "white",
            "gridwidth": 2,
            "linecolor": "white",
            "showbackground": true,
            "ticks": "",
            "zerolinecolor": "white"
           }
          },
          "shapedefaults": {
           "line": {
            "color": "#2a3f5f"
           }
          },
          "ternary": {
           "aaxis": {
            "gridcolor": "white",
            "linecolor": "white",
            "ticks": ""
           },
           "baxis": {
            "gridcolor": "white",
            "linecolor": "white",
            "ticks": ""
           },
           "bgcolor": "#E5ECF6",
           "caxis": {
            "gridcolor": "white",
            "linecolor": "white",
            "ticks": ""
           }
          },
          "title": {
           "x": 0.05
          },
          "xaxis": {
           "automargin": true,
           "gridcolor": "white",
           "linecolor": "white",
           "ticks": "",
           "title": {
            "standoff": 15
           },
           "zerolinecolor": "white",
           "zerolinewidth": 2
          },
          "yaxis": {
           "automargin": true,
           "gridcolor": "white",
           "linecolor": "white",
           "ticks": "",
           "title": {
            "standoff": 15
           },
           "zerolinecolor": "white",
           "zerolinewidth": 2
          }
         }
        },
        "xaxis": {
         "anchor": "y",
         "categoryorder": "total descending",
         "domain": [
          0,
          1
         ],
         "title": {
          "text": "Setor de atuação"
         }
        },
        "yaxis": {
         "anchor": "x",
         "domain": [
          0,
          1
         ],
         "title": {
          "text": "count"
         }
        }
       }
      },
      "text/html": [
       "<div>                            <div id=\"e87a9bd1-bac1-47dc-ab23-d4c6dbaa7299\" class=\"plotly-graph-div\" style=\"height:525px; width:100%;\"></div>            <script type=\"text/javascript\">                require([\"plotly\"], function(Plotly) {                    window.PLOTLYENV=window.PLOTLYENV || {};                                    if (document.getElementById(\"e87a9bd1-bac1-47dc-ab23-d4c6dbaa7299\")) {                    Plotly.newPlot(                        \"e87a9bd1-bac1-47dc-ab23-d4c6dbaa7299\",                        [{\"alignmentgroup\":\"True\",\"bingroup\":\"x\",\"hovertemplate\":\"Setor de atua\\u00e7\\u00e3o=%{x}<br>count=%{y}<extra></extra>\",\"legendgroup\":\"\",\"marker\":{\"color\":\"#636efa\",\"pattern\":{\"shape\":\"\"}},\"name\":\"\",\"offsetgroup\":\"\",\"orientation\":\"v\",\"showlegend\":false,\"x\":[\"Sa\\u00fade\",\"Financeiro e Outros\",\"Consumo n\\u00e3o C\\u00edclico\",\"Bens Industriais\",\"Utilidade P\\u00fablica\",\"Utilidade P\\u00fablica\",\"Consumo n\\u00e3o C\\u00edclico\",\"Consumo n\\u00e3o C\\u00edclico\",\"Consumo C\\u00edclico\",\"Consumo C\\u00edclico\",\"Consumo C\\u00edclico\",\"Consumo C\\u00edclico\",\"Consumo C\\u00edclico\",\"Bens Industriais\",\"Financeiro e Outros\",\"Utilidade P\\u00fablica\",\"Utilidade P\\u00fablica\",\"Utilidade P\\u00fablica\",\"Consumo C\\u00edclico\",\"Utilidade P\\u00fablica\",\"Consumo C\\u00edclico\",\"Consumo C\\u00edclico\",\"Financeiro e Outros\",\"Bens Industriais\",\"Consumo C\\u00edclico\",\"Consumo n\\u00e3o C\\u00edclico\",\"Bens Industriais\",\"Financeiro e Outros\",\"Utilidade P\\u00fablica\",\"Consumo C\\u00edclico\",\"Bens Industriais\",\"Bens Industriais\",\"Bens Industriais\",\"Financeiro e Outros\",\"Consumo C\\u00edclico\",\"Sa\\u00fade\",\"Sa\\u00fade\",\"Consumo n\\u00e3o C\\u00edclico\",\"Financeiro e Outros\",\"Financeiro e Outros\",\"Financeiro e Outros\",\"Financeiro e Outros\",\"Financeiro e Outros\",\"Bens Industriais\",\"Bens Industriais\",\"Consumo n\\u00e3o C\\u00edclico\",\"Financeiro e Outros\",\"Financeiro e Outros\",\"Financeiro e Outros\",\"Financeiro e Outros\",\"Financeiro e Outros\",\"Financeiro e Outros\",\"Financeiro e Outros\",\"Sa\\u00fade\",\"Consumo C\\u00edclico\",\"Sa\\u00fade\",\"Financeiro e Outros\",\"Financeiro e Outros\",\"Financeiro e Outros\",\"Financeiro e Outros\",\"Financeiro e Outros\",\"Financeiro e Outros\",\"Financeiro e Outros\",\"Consumo C\\u00edclico\",\"Tecnologia da Informa\\u00e7\\u00e3o\",\"Financeiro e Outros\",\"Financeiro e Outros\",\"Consumo n\\u00e3o C\\u00edclico\",\"Financeiro e Outros\",\"Financeiro e Outros\",\"Financeiro e Outros\",\"Financeiro e Outros\",\"Materiais B\\u00e1sicos\",\"Materiais B\\u00e1sicos\",\"Financeiro e Outros\",\"Consumo n\\u00e3o C\\u00edclico\",\"Financeiro e Outros\",\"Financeiro e Outros\",\"Financeiro e Outros\",\"Financeiro e Outros\",\"Financeiro e Outros\",\"Financeiro e Outros\",\"Comunica\\u00e7\\u00f5es\",\"Financeiro e Outros\",\"Financeiro e Outros\",\"Materiais B\\u00e1sicos\",\"Materiais B\\u00e1sicos\",\"Materiais B\\u00e1sicos\",\"Financeiro e Outros\",\"Financeiro e Outros\",\"Financeiro e Outros\",\"Financeiro e Outros\",\"Financeiro e Outros\",\"Financeiro e Outros\",\"Financeiro e Outros\",\"Consumo C\\u00edclico\",\"Consumo C\\u00edclico\",\"Consumo n\\u00e3o C\\u00edclico\",\"Tecnologia da Informa\\u00e7\\u00e3o\",\"Materiais B\\u00e1sicos\",\"Utilidade P\\u00fablica\",\"Bens Industriais\",\"Consumo C\\u00edclico\",\"Utilidade P\\u00fablica\",\"Utilidade P\\u00fablica\",\"Utilidade P\\u00fablica\",\"Consumo C\\u00edclico\",\"Consumo C\\u00edclico\",\"Utilidade P\\u00fablica\",\"Utilidade P\\u00fablica\",\"Utilidade P\\u00fablica\",\"Utilidade P\\u00fablica\",\"Utilidade P\\u00fablica\",\"Utilidade P\\u00fablica\",\"Utilidade P\\u00fablica\",\"Consumo C\\u00edclico\",\"Consumo C\\u00edclico\",\"Financeiro e Outros\",\"Tecnologia da Informa\\u00e7\\u00e3o\",\"Utilidade P\\u00fablica\",\"Utilidade P\\u00fablica\",\"Utilidade P\\u00fablica\",\"Utilidade P\\u00fablica\",\"Materiais B\\u00e1sicos\",\"Utilidade P\\u00fablica\",\"Utilidade P\\u00fablica\",\"Consumo C\\u00edclico\",\"Utilidade P\\u00fablica\",\"Utilidade P\\u00fablica\",\"Utilidade P\\u00fablica\",\"Utilidade P\\u00fablica\",\"Utilidade P\\u00fablica\",\"Consumo C\\u00edclico\",\"Consumo n\\u00e3o C\\u00edclico\",\"Financeiro e Outros\",\"Financeiro e Outros\",\"Materiais B\\u00e1sicos\",\"Materiais B\\u00e1sicos\",\"Materiais B\\u00e1sicos\",\"Financeiro e Outros\",\"Financeiro e Outros\",\"Petr\\u00f3leo. G\\u00e1s e Biocombust\\u00edveis\",\"Consumo C\\u00edclico\",\"Utilidade P\\u00fablica\",\"Materiais B\\u00e1sicos\",\"Utilidade P\\u00fablica\",\"Utilidade P\\u00fablica\",\"Utilidade P\\u00fablica\",\"Bens Industriais\",\"Consumo C\\u00edclico\",\"Consumo C\\u00edclico\",\"Consumo C\\u00edclico\",\"Consumo C\\u00edclico\",\"Consumo C\\u00edclico\",\"Consumo C\\u00edclico\",\"Consumo C\\u00edclico\",\"Consumo C\\u00edclico\",\"Financeiro e Outros\",\"Consumo C\\u00edclico\",\"Sa\\u00fade\",\"Comunica\\u00e7\\u00f5es\",\"Materiais B\\u00e1sicos\",\"Materiais B\\u00e1sicos\",\"Consumo C\\u00edclico\",\"Petr\\u00f3leo. G\\u00e1s e Biocombust\\u00edveis\",\"Sa\\u00fade\",\"Consumo C\\u00edclico\",\"Consumo C\\u00edclico\",\"Tecnologia da Informa\\u00e7\\u00e3o\",\"Bens Industriais\",\"Materiais B\\u00e1sicos\",\"Bens Industriais\",\"Bens Industriais\",\"Bens Industriais\",\"Utilidade P\\u00fablica\",\"Utilidade P\\u00fablica\",\"Utilidade P\\u00fablica\",\"Utilidade P\\u00fablica\",\"Utilidade P\\u00fablica\",\"Utilidade P\\u00fablica\",\"Comunica\\u00e7\\u00f5es\",\"Utilidade P\\u00fablica\",\"Bens Industriais\",\"Petr\\u00f3leo. G\\u00e1s e Biocombust\\u00edveis\",\"Utilidade P\\u00fablica\",\"Utilidade P\\u00fablica\",\"Utilidade P\\u00fablica\",\"Utilidade P\\u00fablica\",\"Utilidade P\\u00fablica\",\"Tecnologia da Informa\\u00e7\\u00e3o\",\"Utilidade P\\u00fablica\",\"Utilidade P\\u00fablica\",\"Financeiro e Outros\",\"Utilidade P\\u00fablica\",\"Utilidade P\\u00fablica\",\"Utilidade P\\u00fablica\",\"Utilidade P\\u00fablica\",\"Consumo n\\u00e3o C\\u00edclico\",\"Consumo C\\u00edclico\",\"Bens Industriais\",\"Materiais B\\u00e1sicos\",\"Materiais B\\u00e1sicos\",\"Consumo C\\u00edclico\",\"Consumo C\\u00edclico\",\"Materiais B\\u00e1sicos\",\"Materiais B\\u00e1sicos\",\"Materiais B\\u00e1sicos\",\"Financeiro e Outros\",\"Comunica\\u00e7\\u00f5es\",\"Sa\\u00fade\",\"Financeiro e Outros\",\"Bens Industriais\",\"Bens Industriais\",\"Consumo n\\u00e3o C\\u00edclico\",\"Utilidade P\\u00fablica\",\"Utilidade P\\u00fablica\",\"Consumo C\\u00edclico\",\"Materiais B\\u00e1sicos\",\"Materiais B\\u00e1sicos\",\"Bens Industriais\",\"Consumo n\\u00e3o C\\u00edclico\",\"Materiais B\\u00e1sicos\",\"Materiais B\\u00e1sicos\",\"Bens Industriais\",\"Utilidade P\\u00fablica\",\"Consumo C\\u00edclico\",\"Financeiro e Outros\",\"Consumo C\\u00edclico\",\"Bens Industriais\",\"Bens Industriais\",\"Sa\\u00fade\",\"Consumo C\\u00edclico\",\"Financeiro e Outros\",\"Bens Industriais\",\"Financeiro e Outros\",\"Consumo C\\u00edclico\",\"Consumo C\\u00edclico\",\"Consumo C\\u00edclico\",\"Sa\\u00fade\",\"Tecnologia da Informa\\u00e7\\u00e3o\",\"Financeiro e Outros\",\"Financeiro e Outros\",\"Financeiro e Outros\",\"Financeiro e Outros\",\"Bens Industriais\",\"Bens Industriais\",\"Financeiro e Outros\",\"Financeiro e Outros\",\"Financeiro e Outros\",\"Financeiro e Outros\",\"Financeiro e Outros\",\"Consumo n\\u00e3o C\\u00edclico\",\"Consumo n\\u00e3o C\\u00edclico\",\"Consumo C\\u00edclico\",\"Consumo C\\u00edclico\",\"Consumo n\\u00e3o C\\u00edclico\",\"Consumo n\\u00e3o C\\u00edclico\",\"Bens Industriais\",\"Bens Industriais\",\"Materiais B\\u00e1sicos\",\"Materiais B\\u00e1sicos\",\"Materiais B\\u00e1sicos\",\"Sa\\u00fade\",\"Consumo n\\u00e3o C\\u00edclico\",\"Consumo C\\u00edclico\",\"Consumo C\\u00edclico\",\"Utilidade P\\u00fablica\",\"Utilidade P\\u00fablica\",\"Consumo C\\u00edclico\",\"Consumo C\\u00edclico\",\"Financeiro e Outros\",\"Bens Industriais\",\"Financeiro e Outros\",\"Consumo C\\u00edclico\",\"Petr\\u00f3leo. G\\u00e1s e Biocombust\\u00edveis\",\"Bens Industriais\",\"Tecnologia da Informa\\u00e7\\u00e3o\",\"Tecnologia da Informa\\u00e7\\u00e3o\",\"Financeiro e Outros\",\"Sa\\u00fade\",\"Consumo C\\u00edclico\",\"Consumo n\\u00e3o C\\u00edclico\",\"Consumo C\\u00edclico\",\"Consumo C\\u00edclico\",\"Utilidade P\\u00fablica\",\"Consumo C\\u00edclico\",\"Financeiro e Outros\",\"Financeiro e Outros\",\"Materiais B\\u00e1sicos\",\"Consumo C\\u00edclico\",\"Bens Industriais\",\"Tecnologia da Informa\\u00e7\\u00e3o\",\"Consumo C\\u00edclico\",\"Consumo n\\u00e3o C\\u00edclico\",\"Financeiro e Outros\",\"Financeiro e Outros\",\"Financeiro e Outros\",\"Financeiro e Outros\",\"Consumo C\\u00edclico\",\"Consumo n\\u00e3o C\\u00edclico\",\"Bens Industriais\",\"Bens Industriais\",\"Bens Industriais\",\"Consumo C\\u00edclico\",\"Consumo C\\u00edclico\",\"Consumo C\\u00edclico\",\"Consumo C\\u00edclico\",\"Bens Industriais\",\"Bens Industriais\",\"Financeiro e Outros\",\"Bens Industriais\",\"Bens Industriais\",\"Bens Industriais\",\"Petr\\u00f3leo. G\\u00e1s e Biocombust\\u00edveis\",\"Materiais B\\u00e1sicos\",\"Bens Industriais\",\"Bens Industriais\",\"Bens Industriais\",\"Bens Industriais\",\"Consumo C\\u00edclico\",\"Sa\\u00fade\",\"Petr\\u00f3leo. G\\u00e1s e Biocombust\\u00edveis\",\"Utilidade P\\u00fablica\",\"Consumo C\\u00edclico\",\"Utilidade P\\u00fablica\",\"Utilidade P\\u00fablica\",\"Utilidade P\\u00fablica\",\"Bens Industriais\",\"Financeiro e Outros\",\"Financeiro e Outros\",\"Financeiro e Outros\",\"Petr\\u00f3leo. G\\u00e1s e Biocombust\\u00edveis\",\"Petr\\u00f3leo. G\\u00e1s e Biocombust\\u00edveis\",\"Consumo C\\u00edclico\",\"Bens Industriais\",\"Financeiro e Outros\",\"Financeiro e Outros\",\"Financeiro e Outros\",\"Utilidade P\\u00fablica\",\"Utilidade P\\u00fablica\",\"Utilidade P\\u00fablica\",\"Consumo C\\u00edclico\",\"Utilidade P\\u00fablica\",\"Financeiro e Outros\",\"Consumo C\\u00edclico\",\"Bens Industriais\",\"Consumo C\\u00edclico\",\"Consumo C\\u00edclico\",\"Bens Industriais\",\"Financeiro e Outros\",\"Consumo n\\u00e3o C\\u00edclico\",\"Consumo C\\u00edclico\",\"Consumo C\\u00edclico\",\"Consumo C\\u00edclico\",\"Consumo n\\u00e3o C\\u00edclico\",\"Materiais B\\u00e1sicos\",\"Materiais B\\u00e1sicos\",\"Consumo n\\u00e3o C\\u00edclico\",\"Consumo C\\u00edclico\",\"Bens Industriais\",\"Bens Industriais\",\"Tecnologia da Informa\\u00e7\\u00e3o\",\"Bens Industriais\",\"Financeiro e Outros\",\"Financeiro e Outros\",\"Financeiro e Outros\",\"Materiais B\\u00e1sicos\",\"Financeiro e Outros\",\"Utilidade P\\u00fablica\",\"Utilidade P\\u00fablica\",\"Utilidade P\\u00fablica\",\"Bens Industriais\",\"Bens Industriais\",\"Consumo C\\u00edclico\",\"Consumo C\\u00edclico\",\"Comunica\\u00e7\\u00f5es\",\"Comunica\\u00e7\\u00f5es\",\"Consumo C\\u00edclico\",\"Consumo C\\u00edclico\",\"Bens Industriais\",\"Comunica\\u00e7\\u00f5es\",\"Materiais B\\u00e1sicos\",\"Tecnologia da Informa\\u00e7\\u00e3o\",\"Bens Industriais\",\"Tecnologia da Informa\\u00e7\\u00e3o\",\"Consumo C\\u00edclico\",\"Utilidade P\\u00fablica\",\"Utilidade P\\u00fablica\",\"Consumo n\\u00e3o C\\u00edclico\",\"Bens Industriais\",\"Consumo C\\u00edclico\",\"Consumo C\\u00edclico\",\"Consumo C\\u00edclico\",\"Petr\\u00f3leo. G\\u00e1s e Biocombust\\u00edveis\",\"Materiais B\\u00e1sicos\",\"Materiais B\\u00e1sicos\",\"Materiais B\\u00e1sicos\",\"Materiais B\\u00e1sicos\",\"Materiais B\\u00e1sicos\",\"Materiais B\\u00e1sicos\",\"Materiais B\\u00e1sicos\",\"Bens Industriais\",\"Petr\\u00f3leo. G\\u00e1s e Biocombust\\u00edveis\",\"Consumo C\\u00edclico\",\"Materiais B\\u00e1sicos\",\"Consumo C\\u00edclico\",\"Consumo C\\u00edclico\",\"Comunica\\u00e7\\u00f5es\",\"Bens Industriais\",\"Consumo C\\u00edclico\",\"Sa\\u00fade\",\"Bens Industriais\",\"Consumo C\\u00edclico\",\"Consumo C\\u00edclico\",\"Consumo C\\u00edclico\",\"Financeiro e Outros\",\"Bens Industriais\",\"Bens Industriais\",\"Consumo C\\u00edclico\",\"Consumo C\\u00edclico\"],\"xaxis\":\"x\",\"yaxis\":\"y\",\"type\":\"histogram\"}],                        {\"template\":{\"data\":{\"bar\":[{\"error_x\":{\"color\":\"#2a3f5f\"},\"error_y\":{\"color\":\"#2a3f5f\"},\"marker\":{\"line\":{\"color\":\"#E5ECF6\",\"width\":0.5},\"pattern\":{\"fillmode\":\"overlay\",\"size\":10,\"solidity\":0.2}},\"type\":\"bar\"}],\"barpolar\":[{\"marker\":{\"line\":{\"color\":\"#E5ECF6\",\"width\":0.5},\"pattern\":{\"fillmode\":\"overlay\",\"size\":10,\"solidity\":0.2}},\"type\":\"barpolar\"}],\"carpet\":[{\"aaxis\":{\"endlinecolor\":\"#2a3f5f\",\"gridcolor\":\"white\",\"linecolor\":\"white\",\"minorgridcolor\":\"white\",\"startlinecolor\":\"#2a3f5f\"},\"baxis\":{\"endlinecolor\":\"#2a3f5f\",\"gridcolor\":\"white\",\"linecolor\":\"white\",\"minorgridcolor\":\"white\",\"startlinecolor\":\"#2a3f5f\"},\"type\":\"carpet\"}],\"choropleth\":[{\"colorbar\":{\"outlinewidth\":0,\"ticks\":\"\"},\"type\":\"choropleth\"}],\"contour\":[{\"colorbar\":{\"outlinewidth\":0,\"ticks\":\"\"},\"colorscale\":[[0.0,\"#0d0887\"],[0.1111111111111111,\"#46039f\"],[0.2222222222222222,\"#7201a8\"],[0.3333333333333333,\"#9c179e\"],[0.4444444444444444,\"#bd3786\"],[0.5555555555555556,\"#d8576b\"],[0.6666666666666666,\"#ed7953\"],[0.7777777777777778,\"#fb9f3a\"],[0.8888888888888888,\"#fdca26\"],[1.0,\"#f0f921\"]],\"type\":\"contour\"}],\"contourcarpet\":[{\"colorbar\":{\"outlinewidth\":0,\"ticks\":\"\"},\"type\":\"contourcarpet\"}],\"heatmap\":[{\"colorbar\":{\"outlinewidth\":0,\"ticks\":\"\"},\"colorscale\":[[0.0,\"#0d0887\"],[0.1111111111111111,\"#46039f\"],[0.2222222222222222,\"#7201a8\"],[0.3333333333333333,\"#9c179e\"],[0.4444444444444444,\"#bd3786\"],[0.5555555555555556,\"#d8576b\"],[0.6666666666666666,\"#ed7953\"],[0.7777777777777778,\"#fb9f3a\"],[0.8888888888888888,\"#fdca26\"],[1.0,\"#f0f921\"]],\"type\":\"heatmap\"}],\"heatmapgl\":[{\"colorbar\":{\"outlinewidth\":0,\"ticks\":\"\"},\"colorscale\":[[0.0,\"#0d0887\"],[0.1111111111111111,\"#46039f\"],[0.2222222222222222,\"#7201a8\"],[0.3333333333333333,\"#9c179e\"],[0.4444444444444444,\"#bd3786\"],[0.5555555555555556,\"#d8576b\"],[0.6666666666666666,\"#ed7953\"],[0.7777777777777778,\"#fb9f3a\"],[0.8888888888888888,\"#fdca26\"],[1.0,\"#f0f921\"]],\"type\":\"heatmapgl\"}],\"histogram\":[{\"marker\":{\"pattern\":{\"fillmode\":\"overlay\",\"size\":10,\"solidity\":0.2}},\"type\":\"histogram\"}],\"histogram2d\":[{\"colorbar\":{\"outlinewidth\":0,\"ticks\":\"\"},\"colorscale\":[[0.0,\"#0d0887\"],[0.1111111111111111,\"#46039f\"],[0.2222222222222222,\"#7201a8\"],[0.3333333333333333,\"#9c179e\"],[0.4444444444444444,\"#bd3786\"],[0.5555555555555556,\"#d8576b\"],[0.6666666666666666,\"#ed7953\"],[0.7777777777777778,\"#fb9f3a\"],[0.8888888888888888,\"#fdca26\"],[1.0,\"#f0f921\"]],\"type\":\"histogram2d\"}],\"histogram2dcontour\":[{\"colorbar\":{\"outlinewidth\":0,\"ticks\":\"\"},\"colorscale\":[[0.0,\"#0d0887\"],[0.1111111111111111,\"#46039f\"],[0.2222222222222222,\"#7201a8\"],[0.3333333333333333,\"#9c179e\"],[0.4444444444444444,\"#bd3786\"],[0.5555555555555556,\"#d8576b\"],[0.6666666666666666,\"#ed7953\"],[0.7777777777777778,\"#fb9f3a\"],[0.8888888888888888,\"#fdca26\"],[1.0,\"#f0f921\"]],\"type\":\"histogram2dcontour\"}],\"mesh3d\":[{\"colorbar\":{\"outlinewidth\":0,\"ticks\":\"\"},\"type\":\"mesh3d\"}],\"parcoords\":[{\"line\":{\"colorbar\":{\"outlinewidth\":0,\"ticks\":\"\"}},\"type\":\"parcoords\"}],\"pie\":[{\"automargin\":true,\"type\":\"pie\"}],\"scatter\":[{\"marker\":{\"colorbar\":{\"outlinewidth\":0,\"ticks\":\"\"}},\"type\":\"scatter\"}],\"scatter3d\":[{\"line\":{\"colorbar\":{\"outlinewidth\":0,\"ticks\":\"\"}},\"marker\":{\"colorbar\":{\"outlinewidth\":0,\"ticks\":\"\"}},\"type\":\"scatter3d\"}],\"scattercarpet\":[{\"marker\":{\"colorbar\":{\"outlinewidth\":0,\"ticks\":\"\"}},\"type\":\"scattercarpet\"}],\"scattergeo\":[{\"marker\":{\"colorbar\":{\"outlinewidth\":0,\"ticks\":\"\"}},\"type\":\"scattergeo\"}],\"scattergl\":[{\"marker\":{\"colorbar\":{\"outlinewidth\":0,\"ticks\":\"\"}},\"type\":\"scattergl\"}],\"scattermapbox\":[{\"marker\":{\"colorbar\":{\"outlinewidth\":0,\"ticks\":\"\"}},\"type\":\"scattermapbox\"}],\"scatterpolar\":[{\"marker\":{\"colorbar\":{\"outlinewidth\":0,\"ticks\":\"\"}},\"type\":\"scatterpolar\"}],\"scatterpolargl\":[{\"marker\":{\"colorbar\":{\"outlinewidth\":0,\"ticks\":\"\"}},\"type\":\"scatterpolargl\"}],\"scatterternary\":[{\"marker\":{\"colorbar\":{\"outlinewidth\":0,\"ticks\":\"\"}},\"type\":\"scatterternary\"}],\"surface\":[{\"colorbar\":{\"outlinewidth\":0,\"ticks\":\"\"},\"colorscale\":[[0.0,\"#0d0887\"],[0.1111111111111111,\"#46039f\"],[0.2222222222222222,\"#7201a8\"],[0.3333333333333333,\"#9c179e\"],[0.4444444444444444,\"#bd3786\"],[0.5555555555555556,\"#d8576b\"],[0.6666666666666666,\"#ed7953\"],[0.7777777777777778,\"#fb9f3a\"],[0.8888888888888888,\"#fdca26\"],[1.0,\"#f0f921\"]],\"type\":\"surface\"}],\"table\":[{\"cells\":{\"fill\":{\"color\":\"#EBF0F8\"},\"line\":{\"color\":\"white\"}},\"header\":{\"fill\":{\"color\":\"#C8D4E3\"},\"line\":{\"color\":\"white\"}},\"type\":\"table\"}]},\"layout\":{\"annotationdefaults\":{\"arrowcolor\":\"#2a3f5f\",\"arrowhead\":0,\"arrowwidth\":1},\"autotypenumbers\":\"strict\",\"coloraxis\":{\"colorbar\":{\"outlinewidth\":0,\"ticks\":\"\"}},\"colorscale\":{\"diverging\":[[0,\"#8e0152\"],[0.1,\"#c51b7d\"],[0.2,\"#de77ae\"],[0.3,\"#f1b6da\"],[0.4,\"#fde0ef\"],[0.5,\"#f7f7f7\"],[0.6,\"#e6f5d0\"],[0.7,\"#b8e186\"],[0.8,\"#7fbc41\"],[0.9,\"#4d9221\"],[1,\"#276419\"]],\"sequential\":[[0.0,\"#0d0887\"],[0.1111111111111111,\"#46039f\"],[0.2222222222222222,\"#7201a8\"],[0.3333333333333333,\"#9c179e\"],[0.4444444444444444,\"#bd3786\"],[0.5555555555555556,\"#d8576b\"],[0.6666666666666666,\"#ed7953\"],[0.7777777777777778,\"#fb9f3a\"],[0.8888888888888888,\"#fdca26\"],[1.0,\"#f0f921\"]],\"sequentialminus\":[[0.0,\"#0d0887\"],[0.1111111111111111,\"#46039f\"],[0.2222222222222222,\"#7201a8\"],[0.3333333333333333,\"#9c179e\"],[0.4444444444444444,\"#bd3786\"],[0.5555555555555556,\"#d8576b\"],[0.6666666666666666,\"#ed7953\"],[0.7777777777777778,\"#fb9f3a\"],[0.8888888888888888,\"#fdca26\"],[1.0,\"#f0f921\"]]},\"colorway\":[\"#636efa\",\"#EF553B\",\"#00cc96\",\"#ab63fa\",\"#FFA15A\",\"#19d3f3\",\"#FF6692\",\"#B6E880\",\"#FF97FF\",\"#FECB52\"],\"font\":{\"color\":\"#2a3f5f\"},\"geo\":{\"bgcolor\":\"white\",\"lakecolor\":\"white\",\"landcolor\":\"#E5ECF6\",\"showlakes\":true,\"showland\":true,\"subunitcolor\":\"white\"},\"hoverlabel\":{\"align\":\"left\"},\"hovermode\":\"closest\",\"mapbox\":{\"style\":\"light\"},\"paper_bgcolor\":\"white\",\"plot_bgcolor\":\"#E5ECF6\",\"polar\":{\"angularaxis\":{\"gridcolor\":\"white\",\"linecolor\":\"white\",\"ticks\":\"\"},\"bgcolor\":\"#E5ECF6\",\"radialaxis\":{\"gridcolor\":\"white\",\"linecolor\":\"white\",\"ticks\":\"\"}},\"scene\":{\"xaxis\":{\"backgroundcolor\":\"#E5ECF6\",\"gridcolor\":\"white\",\"gridwidth\":2,\"linecolor\":\"white\",\"showbackground\":true,\"ticks\":\"\",\"zerolinecolor\":\"white\"},\"yaxis\":{\"backgroundcolor\":\"#E5ECF6\",\"gridcolor\":\"white\",\"gridwidth\":2,\"linecolor\":\"white\",\"showbackground\":true,\"ticks\":\"\",\"zerolinecolor\":\"white\"},\"zaxis\":{\"backgroundcolor\":\"#E5ECF6\",\"gridcolor\":\"white\",\"gridwidth\":2,\"linecolor\":\"white\",\"showbackground\":true,\"ticks\":\"\",\"zerolinecolor\":\"white\"}},\"shapedefaults\":{\"line\":{\"color\":\"#2a3f5f\"}},\"ternary\":{\"aaxis\":{\"gridcolor\":\"white\",\"linecolor\":\"white\",\"ticks\":\"\"},\"baxis\":{\"gridcolor\":\"white\",\"linecolor\":\"white\",\"ticks\":\"\"},\"bgcolor\":\"#E5ECF6\",\"caxis\":{\"gridcolor\":\"white\",\"linecolor\":\"white\",\"ticks\":\"\"}},\"title\":{\"x\":0.05},\"xaxis\":{\"automargin\":true,\"gridcolor\":\"white\",\"linecolor\":\"white\",\"ticks\":\"\",\"title\":{\"standoff\":15},\"zerolinecolor\":\"white\",\"zerolinewidth\":2},\"yaxis\":{\"automargin\":true,\"gridcolor\":\"white\",\"linecolor\":\"white\",\"ticks\":\"\",\"title\":{\"standoff\":15},\"zerolinecolor\":\"white\",\"zerolinewidth\":2}}},\"xaxis\":{\"anchor\":\"y\",\"domain\":[0.0,1.0],\"title\":{\"text\":\"Setor de atua\\u00e7\\u00e3o\"},\"categoryorder\":\"total descending\"},\"yaxis\":{\"anchor\":\"x\",\"domain\":[0.0,1.0],\"title\":{\"text\":\"count\"}},\"legend\":{\"tracegroupgap\":0},\"margin\":{\"t\":60},\"barmode\":\"relative\"},                        {\"responsive\": true}                    ).then(function(){\n",
       "                            \n",
       "var gd = document.getElementById('e87a9bd1-bac1-47dc-ab23-d4c6dbaa7299');\n",
       "var x = new MutationObserver(function (mutations, observer) {{\n",
       "        var display = window.getComputedStyle(gd).display;\n",
       "        if (!display || display === 'none') {{\n",
       "            console.log([gd, 'removed!']);\n",
       "            Plotly.purge(gd);\n",
       "            observer.disconnect();\n",
       "        }}\n",
       "}});\n",
       "\n",
       "// Listen for the removal of the full notebook cells\n",
       "var notebookContainer = gd.closest('#notebook-container');\n",
       "if (notebookContainer) {{\n",
       "    x.observe(notebookContainer, {childList: true});\n",
       "}}\n",
       "\n",
       "// Listen for the clearing of the current output cell\n",
       "var outputEl = gd.closest('.output');\n",
       "if (outputEl) {{\n",
       "    x.observe(outputEl, {childList: true});\n",
       "}}\n",
       "\n",
       "                        })                };                });            </script>        </div>"
      ]
     },
     "metadata": {},
     "output_type": "display_data"
    }
   ],
   "source": [
    "px.histogram(df,x='Setor de atuação',).update_xaxes(categoryorder='total descending')"
   ]
  },
  {
   "cell_type": "markdown",
   "id": "f46adbeb",
   "metadata": {},
   "source": [
    "Verifica-se que grande parte das empresas está atuando no setor de consumo cíclico e no setor financeiro"
   ]
  },
  {
   "cell_type": "code",
   "execution_count": 43,
   "id": "05dcb2f6",
   "metadata": {},
   "outputs": [
    {
     "data": {
      "text/plain": [
       "<AxesSubplot:xlabel='Dividend Yield'>"
      ]
     },
     "execution_count": 43,
     "metadata": {},
     "output_type": "execute_result"
    },
    {
     "data": {
      "image/png": "[encoded data removed]",
      "text/plain": [
       "<Figure size 432x288 with 1 Axes>"
      ]
     },
     "metadata": {
      "needs_background": "light"
     },
     "output_type": "display_data"
    }
   ],
   "source": [
    "sns.boxplot(x=df['Dividend Yield'])"
   ]
  },
  {
   "cell_type": "code",
   "execution_count": null,
   "id": "f2aaab3c",
   "metadata": {},
   "outputs": [],
   "source": [
    "# Número total de papéis\n"
   ]
  },
  {
   "cell_type": "code",
   "execution_count": 34,
   "id": "eee6c6cf",
   "metadata": {},
   "outputs": [
    {
     "data": {
      "text/plain": [
       "Setor de atuação\n",
       "Materiais Básicos                  2.277966e+10\n",
       "Financeiro e Outros                2.220655e+10\n",
       "Consumo não Cíclico                1.665977e+10\n",
       "Utilidade Pública                  1.310242e+10\n",
       "Comunicações                       1.251918e+10\n",
       "Petróleo. Gás e Biocombustíveis    1.171842e+10\n",
       "Saúde                              1.099990e+10\n",
       "Bens Industriais                   5.737051e+09\n",
       "Consumo Cíclico                    2.628215e+09\n",
       "Tecnologia da Informação           2.578377e+09\n",
       "Name: Valor de mercado, dtype: float64"
      ]
     },
     "execution_count": 34,
     "metadata": {},
     "output_type": "execute_result"
    }
   ],
   "source": [
    "vm_setor = df.groupby('Setor de atuação')['Valor de mercado'].mean().sort_values(ascending=False)\n",
    "vm_setor"
   ]
  },
  {
   "cell_type": "code",
   "execution_count": 45,
   "id": "a3ea96e0",
   "metadata": {},
   "outputs": [
    {
     "data": {
      "text/plain": [
       "<AxesSubplot:title={'center':'Média do valor de mercado das empresas por setor de atuação'}, xlabel='Setor de atuação', ylabel='Valor de mercado'>"
      ]
     },
     "execution_count": 45,
     "metadata": {},
     "output_type": "execute_result"
    },
    {
     "data": {
      "image/png": "[encoded data removed]",
      "text/plain": [
       "<Figure size 432x288 with 1 Axes>"
      ]
     },
     "metadata": {
      "needs_background": "light"
     },
     "output_type": "display_data"
    }
   ],
   "source": [
    "vm_setor.plot(kind='bar',title='Média do valor de mercado das empresas por setor de atuação', ylabel='Valor de mercado',)"
   ]
  },
  {
   "cell_type": "code",
   "execution_count": 44,
   "id": "e0580394",
   "metadata": {},
   "outputs": [
    {
     "data": {
      "text/plain": [
       "<AxesSubplot:>"
      ]
     },
     "execution_count": 44,
     "metadata": {},
     "output_type": "execute_result"
    },
    {
     "data": {
      "image/png": "[encoded data removed]",
      "text/plain": [
       "<Figure size 432x288 with 2 Axes>"
      ]
     },
     "metadata": {
      "needs_background": "light"
     },
     "output_type": "display_data"
    }
   ],
   "source": [
    "sns.heatmap(df.corr())"
   ]
  },
  {
   "cell_type": "code",
   "execution_count": 62,
   "id": "48d7ca75",
   "metadata": {},
   "outputs": [
    {
     "data": {
      "text/html": [
       "<div>\n",
       "<style scoped>\n",
       "    .dataframe tbody tr th:only-of-type {\n",
       "        vertical-align: middle;\n",
       "    }\n",
       "\n",
       "    .dataframe tbody tr th {\n",
       "        vertical-align: top;\n",
       "    }\n",
       "\n",
       "    .dataframe thead th {\n",
       "        text-align: right;\n",
       "    }\n",
       "</style>\n",
       "<table border=\"1\" class=\"dataframe\">\n",
       "  <thead>\n",
       "    <tr style=\"text-align: right;\">\n",
       "      <th></th>\n",
       "      <th>Papel</th>\n",
       "      <th>Empresa</th>\n",
       "      <th>CNPJ</th>\n",
       "      <th>Setor de atuação</th>\n",
       "      <th>Subsetor de atuação</th>\n",
       "      <th>Segmento de atuação</th>\n",
       "      <th>Patrimônio líquido</th>\n",
       "      <th>Ativos</th>\n",
       "      <th>Ativo circulante</th>\n",
       "      <th>Dívida bruta</th>\n",
       "      <th>...</th>\n",
       "      <th>Valor de mercado</th>\n",
       "      <th>Valor de firma</th>\n",
       "      <th>Número total de papéis</th>\n",
       "      <th>Segmento de listagem</th>\n",
       "      <th>Free float</th>\n",
       "      <th>Cotação atual</th>\n",
       "      <th>Mínima 52 semanas</th>\n",
       "      <th>Máxima 52 semanas</th>\n",
       "      <th>Dividend Yield</th>\n",
       "      <th>Valorização</th>\n",
       "    </tr>\n",
       "  </thead>\n",
       "  <tbody>\n",
       "    <tr>\n",
       "      <th>117</th>\n",
       "      <td>ceeb5</td>\n",
       "      <td>CIA ELETRICIDADE EST. DA BAHIA - COELBA</td>\n",
       "      <td>15.139.629/0001-94</td>\n",
       "      <td>Utilidade Pública</td>\n",
       "      <td>Energia Elétrica</td>\n",
       "      <td>Energia Elétrica</td>\n",
       "      <td>6250000000</td>\n",
       "      <td>25859000000</td>\n",
       "      <td>6194000000</td>\n",
       "      <td>1.264500e+10</td>\n",
       "      <td>...</td>\n",
       "      <td>1.264972e+10</td>\n",
       "      <td>2.429772e+10</td>\n",
       "      <td>262096087</td>\n",
       "      <td>-</td>\n",
       "      <td>1.06</td>\n",
       "      <td>30.99</td>\n",
       "      <td>0.32</td>\n",
       "      <td>46.16</td>\n",
       "      <td>20.4</td>\n",
       "      <td>9584.38</td>\n",
       "    </tr>\n",
       "  </tbody>\n",
       "</table>\n",
       "<p>1 rows × 22 columns</p>\n",
       "</div>"
      ],
      "text/plain": [
       "     Papel                                  Empresa                CNPJ  \\\n",
       "117  ceeb5  CIA ELETRICIDADE EST. DA BAHIA - COELBA  15.139.629/0001-94   \n",
       "\n",
       "      Setor de atuação Subsetor de atuação Segmento de atuação  \\\n",
       "117  Utilidade Pública    Energia Elétrica    Energia Elétrica   \n",
       "\n",
       "     Patrimônio líquido       Ativos  Ativo circulante  Dívida bruta  ...  \\\n",
       "117          6250000000  25859000000        6194000000  1.264500e+10  ...   \n",
       "\n",
       "     Valor de mercado  Valor de firma  Número total de papéis  \\\n",
       "117      1.264972e+10    2.429772e+10               262096087   \n",
       "\n",
       "     Segmento de listagem  Free float Cotação atual  Mínima 52 semanas  \\\n",
       "117                     -        1.06         30.99               0.32   \n",
       "\n",
       "     Máxima 52 semanas  Dividend Yield  Valorização  \n",
       "117              46.16            20.4      9584.38  \n",
       "\n",
       "[1 rows x 22 columns]"
      ]
     },
     "execution_count": 62,
     "metadata": {},
     "output_type": "execute_result"
    }
   ],
   "source": [
    "df[df['Valorização'] == df['Valorização'].max()]"
   ]
  },
  {
   "cell_type": "code",
   "execution_count": null,
   "id": "0ab7f4c8",
   "metadata": {},
   "outputs": [],
   "source": []
  }
 ],
 "metadata": {
  "kernelspec": {
   "display_name": "Python 3 (ipykernel)",
   "language": "python",
   "name": "python3"
  },
  "language_info": {
   "codemirror_mode": {
    "name": "ipython",
    "version": 3
   },
   "file_extension": ".py",
   "mimetype": "text/x-python",
   "name": "python",
   "nbconvert_exporter": "python",
   "pygments_lexer": "ipython3",
   "version": "3.9.12"
  }
 },
 "nbformat": 4,
 "nbformat_minor": 5
}
